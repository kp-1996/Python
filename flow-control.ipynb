{
 "cells": [
  {
   "cell_type": "markdown",
   "metadata": {},
   "source": [
    "# FLow Control "
   ]
  },
  {
   "cell_type": "markdown",
   "metadata": {},
   "source": [
    "### If statement"
   ]
  },
  {
   "cell_type": "code",
   "execution_count": 4,
   "metadata": {},
   "outputs": [
    {
     "name": "stdout",
     "output_type": "stream",
     "text": [
      "Please enter your name: Prasad\n",
      "How old are you Prasad? 16\n",
      "Please come back in 2 years.\n"
     ]
    }
   ],
   "source": [
    "name = input(\"Please enter your name: \")\n",
    "age = int(input(\"How old are you {0}? \".format(name)))\n",
    "if age>=18:\n",
    "    print(\"Your are old enough to vote\")\n",
    "else:\n",
    "    print(\"Please come back in {0} years.\".format(18-age))"
   ]
  },
  {
   "cell_type": "markdown",
   "metadata": {},
   "source": [
    "### elif statement"
   ]
  },
  {
   "cell_type": "code",
   "execution_count": 5,
   "metadata": {},
   "outputs": [
    {
     "name": "stdout",
     "output_type": "stream",
     "text": [
      "Please enter your name: Prasad\n",
      "How old are you Prasad? 101\n",
      "You entered Invalid Age\n"
     ]
    }
   ],
   "source": [
    "name = input(\"Please enter your name: \")\n",
    "age = int(input(\"How old are you {0}? \".format(name)))\n",
    "if age>=100:\n",
    "    print(\"You entered Invalid Age\")\n",
    "elif age>=18:\n",
    "    print(\"Your are old enough to vote\")\n",
    "else:\n",
    "    print(\"Please come back in {0} years.\".format(18-age))"
   ]
  },
  {
   "cell_type": "markdown",
   "metadata": {},
   "source": [
    "\n",
    "### condition operation"
   ]
  },
  {
   "cell_type": "code",
   "execution_count": 7,
   "metadata": {},
   "outputs": [
    {
     "name": "stdout",
     "output_type": "stream",
     "text": [
      "Please guess one number between 1 to 105\n",
      "You got it first time\n"
     ]
    }
   ],
   "source": [
    "number = 5\n",
    "guess = int(input(\"Please guess one number between 1 to 10\"))\n",
    "if guess != number:\n",
    "    if guess < number:\n",
    "        guess = int(input(\"Please guess higher: \"))\n",
    "    else:\n",
    "        guess = int(input(\"Please guess lower: \"))\n",
    "    if guess == number:\n",
    "        print(\"well done, You guessed it\")\n",
    "    else:\n",
    "        print(\"Sorry, you have not guessed correctly\")\n",
    "else:\n",
    "    print(\"You got it first time\")\n",
    "    "
   ]
  },
  {
   "cell_type": "markdown",
   "metadata": {},
   "source": [
    "### and & or "
   ]
  },
  {
   "cell_type": "code",
   "execution_count": 10,
   "metadata": {},
   "outputs": [
    {
     "name": "stdout",
     "output_type": "stream",
     "text": [
      "Please guess any two number between 1 to 10: 5\n",
      "7\n",
      "You are guessed correctly\n"
     ]
    }
   ],
   "source": [
    "number1 = 5\n",
    "number2 = 7\n",
    "guess1 = int(input(\"Please guess any two number between 1 to 10: \"))\n",
    "guess2 = int(input())\n",
    "if guess1 == number1 and guess2 == number2:\n",
    "    print(\"You are guessed correctly\")\n",
    "elif guess1 == number1 or guess2 == number2:\n",
    "    print(\"You are guessed one number correctly\")\n",
    "else:\n",
    "    print(\"You are guess is incorrect\")\n",
    "    "
   ]
  },
  {
   "cell_type": "markdown",
   "metadata": {},
   "source": [
    "### Truthy values"
   ]
  },
  {
   "cell_type": "code",
   "execution_count": 11,
   "metadata": {},
   "outputs": [
    {
     "name": "stdout",
     "output_type": "stream",
     "text": [
      "Enter your name: \n",
      "Are you man with no name\n"
     ]
    }
   ],
   "source": [
    "name = input(\"Enter your name: \")\n",
    "if name:\n",
    "    print(\"Hi {0} welcome to python\".format(name))\n",
    "else:\n",
    "    print(\"Are you man with no name\")"
   ]
  },
  {
   "cell_type": "markdown",
   "metadata": {},
   "source": [
    "### in and not in"
   ]
  },
  {
   "cell_type": "code",
   "execution_count": 13,
   "metadata": {},
   "outputs": [
    {
     "name": "stdout",
     "output_type": "stream",
     "text": [
      "Enter characterw\n",
      "w is not in cognizant technolgy solution\n"
     ]
    }
   ],
   "source": [
    "word = \"cognizant technolgy solution\"\n",
    "char = input(\"Enter character\")\n",
    "\n",
    "if char in word:\n",
    "    print(\"{0} is in {1}\".format(char, word))\n",
    "if char not in word:\n",
    "    print(\"{0} is not in {1}\".format(char, word))"
   ]
  },
  {
   "cell_type": "markdown",
   "metadata": {},
   "source": [
    "### for loop"
   ]
  },
  {
   "cell_type": "code",
   "execution_count": 14,
   "metadata": {},
   "outputs": [
    {
     "name": "stdout",
     "output_type": "stream",
     "text": [
      "c\n",
      "o\n",
      "g\n",
      "n\n",
      "i\n",
      "z\n",
      "a\n",
      "n\n",
      "t\n",
      " \n",
      "t\n",
      "e\n",
      "c\n",
      "h\n",
      "n\n",
      "o\n",
      "l\n",
      "g\n",
      "y\n",
      " \n",
      "s\n",
      "o\n",
      "l\n",
      "u\n",
      "t\n",
      "i\n",
      "o\n",
      "n\n"
     ]
    }
   ],
   "source": [
    "for char in word:\n",
    "    print(char)"
   ]
  },
  {
   "cell_type": "code",
   "execution_count": 15,
   "metadata": {},
   "outputs": [
    {
     "name": "stdout",
     "output_type": "stream",
     "text": [
      "i is now 1\n",
      "i is now 2\n",
      "i is now 3\n",
      "i is now 4\n",
      "i is now 5\n"
     ]
    }
   ],
   "source": [
    "#iterating over range\n",
    "for i in range(1,6):\n",
    "    print(\"i is now {0}\".format(i))"
   ]
  },
  {
   "cell_type": "code",
   "execution_count": 19,
   "metadata": {},
   "outputs": [
    {
     "name": "stdout",
     "output_type": "stream",
     "text": [
      "11\n",
      "9\n",
      "7\n",
      "5\n",
      "3\n"
     ]
    }
   ],
   "source": [
    "for i in range(11,1,-2):\n",
    "    print(i)"
   ]
  },
  {
   "cell_type": "code",
   "execution_count": 20,
   "metadata": {},
   "outputs": [
    {
     "name": "stdout",
     "output_type": "stream",
     "text": [
      "1 times 1 is 1\n",
      "2 times 1 is 2\n",
      "3 times 1 is 3\n",
      "4 times 1 is 4\n",
      "5 times 1 is 5\n",
      "6 times 1 is 6\n",
      "7 times 1 is 7\n",
      "8 times 1 is 8\n",
      "9 times 1 is 9\n",
      "10 times 1 is 10\n",
      "********************\n",
      "1 times 2 is 2\n",
      "2 times 2 is 4\n",
      "3 times 2 is 6\n",
      "4 times 2 is 8\n",
      "5 times 2 is 10\n",
      "6 times 2 is 12\n",
      "7 times 2 is 14\n",
      "8 times 2 is 16\n",
      "9 times 2 is 18\n",
      "10 times 2 is 20\n",
      "********************\n",
      "1 times 3 is 3\n",
      "2 times 3 is 6\n",
      "3 times 3 is 9\n",
      "4 times 3 is 12\n",
      "5 times 3 is 15\n",
      "6 times 3 is 18\n",
      "7 times 3 is 21\n",
      "8 times 3 is 24\n",
      "9 times 3 is 27\n",
      "10 times 3 is 30\n",
      "********************\n",
      "1 times 4 is 4\n",
      "2 times 4 is 8\n",
      "3 times 4 is 12\n",
      "4 times 4 is 16\n",
      "5 times 4 is 20\n",
      "6 times 4 is 24\n",
      "7 times 4 is 28\n",
      "8 times 4 is 32\n",
      "9 times 4 is 36\n",
      "10 times 4 is 40\n",
      "********************\n",
      "1 times 5 is 5\n",
      "2 times 5 is 10\n",
      "3 times 5 is 15\n",
      "4 times 5 is 20\n",
      "5 times 5 is 25\n",
      "6 times 5 is 30\n",
      "7 times 5 is 35\n",
      "8 times 5 is 40\n",
      "9 times 5 is 45\n",
      "10 times 5 is 50\n",
      "********************\n",
      "1 times 6 is 6\n",
      "2 times 6 is 12\n",
      "3 times 6 is 18\n",
      "4 times 6 is 24\n",
      "5 times 6 is 30\n",
      "6 times 6 is 36\n",
      "7 times 6 is 42\n",
      "8 times 6 is 48\n",
      "9 times 6 is 54\n",
      "10 times 6 is 60\n",
      "********************\n",
      "1 times 7 is 7\n",
      "2 times 7 is 14\n",
      "3 times 7 is 21\n",
      "4 times 7 is 28\n",
      "5 times 7 is 35\n",
      "6 times 7 is 42\n",
      "7 times 7 is 49\n",
      "8 times 7 is 56\n",
      "9 times 7 is 63\n",
      "10 times 7 is 70\n",
      "********************\n",
      "1 times 8 is 8\n",
      "2 times 8 is 16\n",
      "3 times 8 is 24\n",
      "4 times 8 is 32\n",
      "5 times 8 is 40\n",
      "6 times 8 is 48\n",
      "7 times 8 is 56\n",
      "8 times 8 is 64\n",
      "9 times 8 is 72\n",
      "10 times 8 is 80\n",
      "********************\n",
      "1 times 9 is 9\n",
      "2 times 9 is 18\n",
      "3 times 9 is 27\n",
      "4 times 9 is 36\n",
      "5 times 9 is 45\n",
      "6 times 9 is 54\n",
      "7 times 9 is 63\n",
      "8 times 9 is 72\n",
      "9 times 9 is 81\n",
      "10 times 9 is 90\n",
      "********************\n",
      "1 times 10 is 10\n",
      "2 times 10 is 20\n",
      "3 times 10 is 30\n",
      "4 times 10 is 40\n",
      "5 times 10 is 50\n",
      "6 times 10 is 60\n",
      "7 times 10 is 70\n",
      "8 times 10 is 80\n",
      "9 times 10 is 90\n",
      "10 times 10 is 100\n",
      "********************\n"
     ]
    }
   ],
   "source": [
    "# nested loop\n",
    "for i in range(1,11):\n",
    "    for j in range(1,11):\n",
    "        print(\"{0} times {1} is {2}\".format(j,i,j*i))\n",
    "    print(\"*\"*20)"
   ]
  },
  {
   "cell_type": "code",
   "execution_count": 22,
   "metadata": {},
   "outputs": [
    {
     "name": "stdout",
     "output_type": "stream",
     "text": [
      "0\n",
      "1\n",
      "3\n",
      "4\n",
      "5\n",
      "6\n"
     ]
    }
   ],
   "source": [
    "#continue and break\n",
    "for i in range(0,10):\n",
    "    if i == 2:\n",
    "        continue\n",
    "    elif i == 7:\n",
    "        break\n",
    "    else:\n",
    "        print(i)"
   ]
  },
  {
   "cell_type": "code",
   "execution_count": null,
   "metadata": {},
   "outputs": [],
   "source": []
  }
 ],
 "metadata": {
  "kernelspec": {
   "display_name": "Python 3",
   "language": "python",
   "name": "python3"
  },
  "language_info": {
   "codemirror_mode": {
    "name": "ipython",
    "version": 3
   },
   "file_extension": ".py",
   "mimetype": "text/x-python",
   "name": "python",
   "nbconvert_exporter": "python",
   "pygments_lexer": "ipython3",
   "version": "3.7.0"
  }
 },
 "nbformat": 4,
 "nbformat_minor": 2
}
