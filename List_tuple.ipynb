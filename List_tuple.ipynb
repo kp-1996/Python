{
 "cells": [
  {
   "cell_type": "markdown",
   "metadata": {},
   "source": [
    "# Sequence Type"
   ]
  },
  {
   "cell_type": "code",
   "execution_count": 2,
   "metadata": {},
   "outputs": [
    {
     "name": "stdout",
     "output_type": "stream",
     "text": [
      "enter ip address123.168.0.1\n",
      "3\n"
     ]
    }
   ],
   "source": [
    "#count\n",
    "ipaddress = input(\"enter ip address\")\n",
    "print(ipaddress.count(\".\"))"
   ]
  },
  {
   "cell_type": "markdown",
   "metadata": {},
   "source": [
    "### List"
   ]
  },
  {
   "cell_type": "code",
   "execution_count": 4,
   "metadata": {},
   "outputs": [
    {
     "name": "stdout",
     "output_type": "stream",
     "text": [
      "This fruit is mango\n",
      "This fruit is orange\n",
      "This fruit is apple\n"
     ]
    }
   ],
   "source": [
    "Fruits = [\"mango\",\"orange\",\"apple\"]\n",
    "for fruit in Fruits:\n",
    "    print(\"This fruit is {0}\".format(fruit))"
   ]
  },
  {
   "cell_type": "code",
   "execution_count": 6,
   "metadata": {},
   "outputs": [
    {
     "name": "stdout",
     "output_type": "stream",
     "text": [
      "This fruit is mango\n",
      "This fruit is orange\n",
      "This fruit is apple\n",
      "This fruit is graps\n",
      "This fruit is graps\n"
     ]
    }
   ],
   "source": [
    "# append()\n",
    "Fruits.append(\"graps\")\n",
    "for fruit in Fruits:\n",
    "    print(\"This fruit is {0}\".format(fruit))"
   ]
  },
  {
   "cell_type": "code",
   "execution_count": 7,
   "metadata": {},
   "outputs": [
    {
     "name": "stdout",
     "output_type": "stream",
     "text": [
      "[1, 3, 5, 7, 9, 2, 4, 6, 8]\n"
     ]
    }
   ],
   "source": [
    "#List concatinate\n",
    "odd = [1,3,5,7,9]\n",
    "even = [2,4,6,8]\n",
    "numbers = odd+even\n",
    "print(numbers)"
   ]
  },
  {
   "cell_type": "code",
   "execution_count": 10,
   "metadata": {},
   "outputs": [
    {
     "name": "stdout",
     "output_type": "stream",
     "text": [
      "[1, 2, 3, 4, 5, 6, 7, 8, 9]\n",
      "[1, 2, 3, 4, 5, 6, 7, 8, 9]\n"
     ]
    }
   ],
   "source": [
    "#List Sort\n",
    "numbers.sort()\n",
    "print(numbers)\n",
    "sorted_numbers = sorted(odd+even)\n",
    "print(sorted_numbers)"
   ]
  },
  {
   "cell_type": "code",
   "execution_count": 26,
   "metadata": {},
   "outputs": [
    {
     "name": "stdout",
     "output_type": "stream",
     "text": [
      "list are equals\n"
     ]
    }
   ],
   "source": [
    "#Creating list\n",
    "list_1 = []\n",
    "del list\n",
    "list_2 = list()\n",
    "if list_1 == list_2:\n",
    "    print(\"list are equals\")"
   ]
  },
  {
   "cell_type": "code",
   "execution_count": 13,
   "metadata": {},
   "outputs": [
    {
     "name": "stdout",
     "output_type": "stream",
     "text": [
      "[8, 6, 4, 2]\n",
      "True\n"
     ]
    }
   ],
   "source": [
    "even = [2,4,6,8]\n",
    "another_even = even\n",
    "another_even.sort(reverse = True)\n",
    "print(even)\n",
    "print(another_even is even)"
   ]
  },
  {
   "cell_type": "code",
   "execution_count": 14,
   "metadata": {},
   "outputs": [
    {
     "name": "stdout",
     "output_type": "stream",
     "text": [
      "False\n"
     ]
    }
   ],
   "source": [
    "another_even = list(even)\n",
    "another_even.sort(reverse = True)\n",
    "print(another_even is even)"
   ]
  },
  {
   "cell_type": "code",
   "execution_count": 16,
   "metadata": {},
   "outputs": [
    {
     "name": "stdout",
     "output_type": "stream",
     "text": [
      "[8, 6, 4, 2]\n"
     ]
    }
   ],
   "source": [
    "another_even = sorted(even, reverse = True)\n",
    "print(another_even)"
   ]
  },
  {
   "cell_type": "code",
   "execution_count": 18,
   "metadata": {},
   "outputs": [
    {
     "name": "stdout",
     "output_type": "stream",
     "text": [
      "[2, 4, 6, 8]\n",
      "2\n",
      "4\n",
      "6\n",
      "8\n",
      "[1, 3, 5, 7, 9]\n",
      "1\n",
      "3\n",
      "5\n",
      "7\n",
      "9\n"
     ]
    }
   ],
   "source": [
    "odd = [1,3,5,7,9]\n",
    "even = [2,4,6,8]\n",
    "numbers = [even, odd]\n",
    "for number_set in numbers:\n",
    "    print(number_set)\n",
    "    for number in number_set:\n",
    "        print(number)"
   ]
  },
  {
   "cell_type": "code",
   "execution_count": 19,
   "metadata": {},
   "outputs": [
    {
     "name": "stdout",
     "output_type": "stream",
     "text": [
      "['egg', 'sasuge', 'bacon']\n",
      "['egg', 'bacon', 'sasuge']\n"
     ]
    }
   ],
   "source": [
    "menu = []\n",
    "menu.append([\"egg\",\"sasuge\",\"bacon\"])\n",
    "menu.append([\"egg\",\"spam\",\"sasuge\",\"bacon\"])\n",
    "menu.append([\"egg\", \"bacon\",\"sasuge\"])\n",
    "menu.append([\"spam\",\"bacon\",\"egg\",\"sasuge\"])\n",
    "for meal in menu:\n",
    "    if not \"spam\" in meal:\n",
    "        print(meal)"
   ]
  },
  {
   "cell_type": "code",
   "execution_count": 20,
   "metadata": {},
   "outputs": [
    {
     "name": "stdout",
     "output_type": "stream",
     "text": [
      "cognizant\n",
      "technology\n",
      "solution\n"
     ]
    }
   ],
   "source": [
    "#iterator\n",
    "list =[\"cognizant\",\"technology\",\"solution\"]\n",
    "my_iterate = iter(list)\n",
    "for i in range(0,len(list)):\n",
    "    next_item = next(my_iterate)\n",
    "    print(next_item)"
   ]
  },
  {
   "cell_type": "code",
   "execution_count": 29,
   "metadata": {},
   "outputs": [
    {
     "name": "stdout",
     "output_type": "stream",
     "text": [
      "[0, 2, 4, 6, 8]\n",
      "[1, 3, 5, 7, 9]\n"
     ]
    }
   ],
   "source": [
    "#range example\n",
    "odd = list(range(1,10,2))\n",
    "even = list(range(0,10,2))\n",
    "print(even)\n",
    "print(odd)"
   ]
  },
  {
   "cell_type": "code",
   "execution_count": 31,
   "metadata": {},
   "outputs": [
    {
     "name": "stdout",
     "output_type": "stream",
     "text": [
      "2\n",
      "a\n"
     ]
    }
   ],
   "source": [
    "name = \"Prasada\"\n",
    "print(name.index('a'))\n",
    "print(name[2])"
   ]
  },
  {
   "cell_type": "code",
   "execution_count": 35,
   "metadata": {},
   "outputs": [
    {
     "name": "stdout",
     "output_type": "stream",
     "text": [
      "True\n"
     ]
    }
   ],
   "source": [
    "print(range(0,10,2) == range(0,9,2))"
   ]
  },
  {
   "cell_type": "code",
   "execution_count": 36,
   "metadata": {},
   "outputs": [
    {
     "name": "stdout",
     "output_type": "stream",
     "text": [
      "True\n"
     ]
    }
   ],
   "source": [
    "print(range(2,100)[::-2] == range(99,2,-2))"
   ]
  },
  {
   "cell_type": "code",
   "execution_count": 37,
   "metadata": {},
   "outputs": [
    {
     "name": "stdout",
     "output_type": "stream",
     "text": [
      "dasarP\n"
     ]
    }
   ],
   "source": [
    "name = \"Prasad\"\n",
    "print(name[::-1])"
   ]
  },
  {
   "cell_type": "markdown",
   "metadata": {},
   "source": [
    "### Tuples"
   ]
  },
  {
   "cell_type": "code",
   "execution_count": 38,
   "metadata": {},
   "outputs": [
    {
     "name": "stdout",
     "output_type": "stream",
     "text": [
      "('Prasad', 'KP', 1996)\n",
      "('bangalore', 'indiranagara', 560038)\n"
     ]
    }
   ],
   "source": [
    "name = \"Prasad\",\"KP\",1996\n",
    "print(name)\n",
    "address = (\"bangalore\",\"indiranagara\",560038)\n",
    "print(address)"
   ]
  },
  {
   "cell_type": "code",
   "execution_count": 39,
   "metadata": {},
   "outputs": [
    {
     "ename": "TypeError",
     "evalue": "'tuple' object does not support item assignment",
     "output_type": "error",
     "traceback": [
      "\u001b[1;31m---------------------------------------------------------------------------\u001b[0m",
      "\u001b[1;31mTypeError\u001b[0m                                 Traceback (most recent call last)",
      "\u001b[1;32m<ipython-input-39-f613baed3490>\u001b[0m in \u001b[0;36m<module>\u001b[1;34m()\u001b[0m\n\u001b[1;32m----> 1\u001b[1;33m \u001b[0mname\u001b[0m\u001b[1;33m[\u001b[0m\u001b[1;36m1\u001b[0m\u001b[1;33m]\u001b[0m \u001b[1;33m=\u001b[0m \u001b[1;34m\"prasad\"\u001b[0m\u001b[1;33m\u001b[0m\u001b[0m\n\u001b[0m",
      "\u001b[1;31mTypeError\u001b[0m: 'tuple' object does not support item assignment"
     ]
    }
   ],
   "source": [
    "name[1] = \"prasad\""
   ]
  },
  {
   "cell_type": "code",
   "execution_count": 40,
   "metadata": {},
   "outputs": [
    {
     "name": "stdout",
     "output_type": "stream",
     "text": [
      "10\n",
      "11\n",
      "12\n"
     ]
    }
   ],
   "source": [
    "a=b=c=d=10\n",
    "print(c)\n",
    "a,b=11,12\n",
    "print(a)\n",
    "print(b)"
   ]
  },
  {
   "cell_type": "code",
   "execution_count": 41,
   "metadata": {},
   "outputs": [
    {
     "name": "stdout",
     "output_type": "stream",
     "text": [
      "(2001, 'kuvempu', 'mukkajji kanasu')\n",
      "(2002, 'purna chandra', 'andoman')\n",
      "(2003, 'dara bendre', 'naku thanthi')\n"
     ]
    }
   ],
   "source": [
    "book = ((2001,\"kuvempu\",\"mukkajji kanasu\"),(2002,\"purna chandra\",\"andoman\"),(2003,\"dara bendre\",\"naku thanthi\"))\n",
    "kuvempu,purna,bendre=book\n",
    "print(kuvempu)\n",
    "print(purna)\n",
    "print(bendre)"
   ]
  },
  {
   "cell_type": "code",
   "execution_count": 43,
   "metadata": {},
   "outputs": [
    {
     "name": "stdout",
     "output_type": "stream",
     "text": [
      "((2001, 'kuvempu', 'mukkajji kanasu'), (2002, 'purna chandra', 'andoman'), (2003, 'dara bendre', 'naku thanthi'), [2003, 'Prasad', 'prasli'])\n"
     ]
    }
   ],
   "source": [
    "book = ((2001,\"kuvempu\",\"mukkajji kanasu\"),(2002,\"purna chandra\",\"andoman\"),(2003,\"dara bendre\",\"naku thanthi\"),[2003,\"Prasad\",\"prasli\"])\n",
    "print(book)"
   ]
  },
  {
   "cell_type": "code",
   "execution_count": 44,
   "metadata": {},
   "outputs": [
    {
     "name": "stdout",
     "output_type": "stream",
     "text": [
      "((2001, 'kuvempu', 'mukkajji kanasu'), (2002, 'purna chandra', 'andoman'), (2003, 'dara bendre', 'naku thanthi'), [2003, 'Prasad', 'prasli', 'Prasada.kp'])\n"
     ]
    }
   ],
   "source": [
    "book[3].append(\"Prasada.kp\")\n",
    "print(book)"
   ]
  },
  {
   "cell_type": "code",
   "execution_count": 46,
   "metadata": {},
   "outputs": [
    {
     "ename": "AttributeError",
     "evalue": "'tuple' object has no attribute 'append'",
     "output_type": "error",
     "traceback": [
      "\u001b[1;31m---------------------------------------------------------------------------\u001b[0m",
      "\u001b[1;31mAttributeError\u001b[0m                            Traceback (most recent call last)",
      "\u001b[1;32m<ipython-input-46-3f3e3db6864d>\u001b[0m in \u001b[0;36m<module>\u001b[1;34m()\u001b[0m\n\u001b[1;32m----> 1\u001b[1;33m \u001b[0mbook\u001b[0m\u001b[1;33m.\u001b[0m\u001b[0mappend\u001b[0m\u001b[1;33m(\u001b[0m\u001b[1;34m\"navven\"\u001b[0m\u001b[1;33m)\u001b[0m\u001b[1;33m\u001b[0m\u001b[0m\n\u001b[0m",
      "\u001b[1;31mAttributeError\u001b[0m: 'tuple' object has no attribute 'append'"
     ]
    }
   ],
   "source": [
    "book.append(\"navven\")"
   ]
  },
  {
   "cell_type": "code",
   "execution_count": null,
   "metadata": {},
   "outputs": [],
   "source": []
  }
 ],
 "metadata": {
  "kernelspec": {
   "display_name": "Python 3",
   "language": "python",
   "name": "python3"
  },
  "language_info": {
   "codemirror_mode": {
    "name": "ipython",
    "version": 3
   },
   "file_extension": ".py",
   "mimetype": "text/x-python",
   "name": "python",
   "nbconvert_exporter": "python",
   "pygments_lexer": "ipython3",
   "version": "3.7.0"
  }
 },
 "nbformat": 4,
 "nbformat_minor": 2
}
