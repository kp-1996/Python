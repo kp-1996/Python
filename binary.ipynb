{
 "cells": [
  {
   "cell_type": "markdown",
   "metadata": {},
   "source": [
    "# Hexa"
   ]
  },
  {
   "cell_type": "code",
   "execution_count": 2,
   "metadata": {},
   "outputs": [
    {
     "name": "stdout",
     "output_type": "stream",
     "text": [
      " 0 in hex is 00\n",
      " 1 in hex is 01\n",
      " 2 in hex is 02\n",
      " 3 in hex is 03\n",
      " 4 in hex is 04\n",
      " 5 in hex is 05\n",
      " 6 in hex is 06\n",
      " 7 in hex is 07\n",
      " 8 in hex is 08\n",
      " 9 in hex is 09\n",
      "10 in hex is 0a\n",
      "11 in hex is 0b\n",
      "12 in hex is 0c\n",
      "13 in hex is 0d\n",
      "14 in hex is 0e\n",
      "15 in hex is 0f\n",
      "16 in hex is 10\n"
     ]
    }
   ],
   "source": [
    "#decimal to hexadecimal\n",
    "for i in range(17):\n",
    "    print(\"{0:>2} in hex is {0:>02x}\".format(i))"
   ]
  },
  {
   "cell_type": "code",
   "execution_count": 3,
   "metadata": {},
   "outputs": [
    {
     "name": "stdout",
     "output_type": "stream",
     "text": [
      "32\n",
      "10\n",
      "320\n"
     ]
    }
   ],
   "source": [
    "#hexa to decimal\n",
    "x = 0x20\n",
    "y = 0x0a\n",
    "print(x)\n",
    "print(y)\n",
    "print(x*y)"
   ]
  }
 ],
 "metadata": {
  "kernelspec": {
   "display_name": "Python 3",
   "language": "python",
   "name": "python3"
  },
  "language_info": {
   "codemirror_mode": {
    "name": "ipython",
    "version": 3
   },
   "file_extension": ".py",
   "mimetype": "text/x-python",
   "name": "python",
   "nbconvert_exporter": "python",
   "pygments_lexer": "ipython3",
   "version": "3.7.0"
  }
 },
 "nbformat": 4,
 "nbformat_minor": 2
}
